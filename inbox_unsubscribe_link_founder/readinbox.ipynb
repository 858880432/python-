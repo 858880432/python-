{
 "metadata": {
  "language_info": {
   "codemirror_mode": {
    "name": "ipython",
    "version": 3
   },
   "file_extension": ".py",
   "mimetype": "text/x-python",
   "name": "python",
   "nbconvert_exporter": "python",
   "pygments_lexer": "ipython3",
   "version": "3.9.5"
  },
  "orig_nbformat": 2,
  "kernelspec": {
   "name": "python3",
   "display_name": "Python 3.9.5 64-bit"
  },
  "metadata": {
   "interpreter": {
    "hash": "5c4e2094b9a0af41ec2d35534c45f742181f1135ba63690a4b3ebb51544c6274"
   }
  },
  "interpreter": {
   "hash": "5c4e2094b9a0af41ec2d35534c45f742181f1135ba63690a4b3ebb51544c6274"
  }
 },
 "nbformat": 4,
 "nbformat_minor": 2,
 "cells": [
  {
   "cell_type": "code",
   "execution_count": null,
   "source": [
    "import imaplib\r\n",
    "import email #imap - way to read emails "
   ],
   "outputs": [],
   "metadata": {}
  },
  {
   "cell_type": "code",
   "execution_count": null,
   "source": [
    "host = 'imap.gmail.com'\r\n",
    "username = \"ur  email id\"\r\n",
    "password = \"ur password\""
   ],
   "outputs": [],
   "metadata": {}
  },
  {
   "cell_type": "code",
   "execution_count": null,
   "source": [
    "mail = imaplib.IMAP4_SSL(host)\r\n",
    "mail.login(username,password)\r\n",
    "_, search_data = mail.select(\"inbox\")"
   ],
   "outputs": [],
   "metadata": {}
  },
  {
   "cell_type": "code",
   "execution_count": null,
   "source": [
    "# _, search_data = mail.search(None, \"USEEN\")\r\n",
    "unseen=search_data[0].split()\r\n",
    "print(unseen)"
   ],
   "outputs": [],
   "metadata": {
    "tags": []
   }
  },
  {
   "cell_type": "code",
   "execution_count": null,
   "source": [],
   "outputs": [],
   "metadata": {}
  },
  {
   "cell_type": "code",
   "execution_count": null,
   "source": [
    "\r\n",
    "for num in unseen:\r\n",
    "    #print(num)\r\n",
    "    _,data=mail.fetch(num,'(RFC822)')\r\n",
    "    #print(data[0])\r\n",
    "    a,b=data[0]\r\n",
    "    msg_str=str(b)\r\n",
    "    em = email.message_from_bytes(b)\r\n",
    "    print(em)"
   ],
   "outputs": [],
   "metadata": {}
  },
  {
   "cell_type": "code",
   "execution_count": null,
   "source": [
    "for num in unseen[:1]:\r\n",
    "    #print(num)\r\n",
    "    _,data=mail.fetch(num,'(RFC822)')\r\n",
    "    #print(data[0])\r\n",
    "    a,b=data[0]\r\n",
    "    em = email.message_from_bytes(b)\r\n",
    "    for part in em.walk():\r\n",
    "        if part.get_content_type()=='text/plain':\r\n",
    "            body = part.get_payload(decode=True)\r\n",
    "            print(body)"
   ],
   "outputs": [],
   "metadata": {}
  },
  {
   "cell_type": "code",
   "execution_count": null,
   "source": [
    "# an email object is a tree contiang parts this code prints the text part of the email\r\n",
    "for num in unseen:\r\n",
    "    #print(num)\r\n",
    "    _,data=mail.fetch(num,'(RFC822)')\r\n",
    "    #print(data[0])\r\n",
    "    a,b=data[0]\r\n",
    "    em = email.message_from_bytes(b)\r\n",
    "    \r\n",
    "    for part in em.walk():\r\n",
    "        print(part.get_content_type,\"ehe\\n\")\r\n",
    "        if part.get_content_type()=='text/htm':\r\n",
    "            body = part.get_payload(decode=True)\r\n",
    "            print(body)"
   ],
   "outputs": [],
   "metadata": {}
  },
  {
   "cell_type": "code",
   "execution_count": null,
   "source": [
    "#to read subject to from attriuutes of email object\r\n",
    "for num in unseen[:10]:\r\n",
    "    #print(num)\r\n",
    "    _,data=mail.fetch(num,'(RFC822)')\r\n",
    "    #print(data[0])\r\n",
    "    a,b=data[0]\r\n",
    "    em = email.message_from_bytes(b)\r\n",
    "    print(em)\r\n",
    "    for header in ['subject' , 'to' , 'from' , 'date']:\r\n",
    "        print(\"{}: {}\".format(header,em[header]))\r\n",
    "    # for part in em.walk():\r\n",
    "    #     if part.get_content_type()=='text/plain':\r\n",
    "    #         body = part.get_payload(decode=True)\r\n",
    "    #         print(body)"
   ],
   "outputs": [],
   "metadata": {}
  },
  {
   "cell_type": "code",
   "execution_count": null,
   "source": [
    "# to read just the html part of the message\r\n",
    "s={}\r\n",
    "for num in unseen:\r\n",
    "    s[num]={}\r\n",
    "    #print(num)\r\n",
    "    _,data=mail.fetch(num,'(RFC822)')\r\n",
    "    #print(data[0])\r\n",
    "    a,b=data[0]\r\n",
    "    em = email.message_from_bytes(b)\r\n",
    "    #print(em)\r\n",
    "    for part in em.walk():\r\n",
    "        for header in ['subject' , 'to' , 'from' , 'date']:\r\n",
    "            print(\"{}: {}\".format(header,em[header]))\r\n",
    "            s[num][header] = em[header]\r\n",
    "\r\n",
    "        if part.get_content_type()=='text/html':\r\n",
    "            body = part.get_payload(decode=True)\r\n",
    "            s[num][\"content\"]=body\r\n",
    "            print(body)\r\n",
    "# print(\"here\")\r\n"
   ],
   "outputs": [],
   "metadata": {}
  },
  {
   "cell_type": "code",
   "execution_count": null,
   "source": [
    "s"
   ],
   "outputs": [],
   "metadata": {}
  },
  {
   "cell_type": "code",
   "execution_count": null,
   "source": [
    "help('modules')"
   ],
   "outputs": [],
   "metadata": {}
  },
  {
   "cell_type": "code",
   "execution_count": null,
   "source": [
    "pip install bs4"
   ],
   "outputs": [],
   "metadata": {}
  },
  {
   "cell_type": "code",
   "execution_count": null,
   "source": [
    "from bs4 import BeautifulSoup"
   ],
   "outputs": [],
   "metadata": {}
  },
  {
   "cell_type": "code",
   "execution_count": null,
   "source": [
    "import re\r\n",
    "regex=re.compile('unsubscribe')\r\n",
    "for num in s:\r\n",
    "    html_text = s[num][\"content\"]\r\n",
    "    soup = BeautifulSoup(html_text, 'html.parser')\r\n",
    "    for li in soup.find_all('a'):\r\n",
    "        for match in re.findall(regex, li.text):\r\n",
    "            print(\"from:-\" , s[num]['from'])\r\n",
    "            print(\"to:-\" , s[num]['to'])\r\n",
    "            print(\"Subject:-\" , s[num]['subject'])\r\n",
    "            print(\"Text:-\",li.text,\"\\n\")\r\n",
    "            print(\"Link-\",link.get('href'))\r\n",
    "        \r\n",
    "    "
   ],
   "outputs": [],
   "metadata": {}
  },
  {
   "cell_type": "code",
   "execution_count": null,
   "source": [
    "\r\n",
    "for link in soup.find_all('a'):\r\n",
    "    print(\"text\",link.text)\r\n",
    "    print(\"gettext\",link.get_text,\"\\n\")\r\n",
    "    for li in soup.find_all('a'):\r\n",
    "        for match in re.findall(regex, li.text):\r\n",
    "        print(\"Text:-\",li.text,\"\\n\")\r\n",
    "        print(\"Link-\",link.get('href'))\r\n",
    "        "
   ],
   "outputs": [],
   "metadata": {}
  },
  {
   "cell_type": "code",
   "execution_count": null,
   "source": [
    "#print(soup.prettify())\r\n",
    "#if get the linsk that has word \"unsusbcribe in it\"\r\n",
    "import re\r\n",
    "regex=re.compile('unsubscribe')\r\n",
    "for li in soup.find_all('a'):\r\n",
    "    \r\n",
    "    for match in re.findall(regex, li.text):\r\n",
    "        print(\"Text:-\",li.text,\"\\n\")\r\n",
    "        print(\"Link-\",link.get('href'))\r\n",
    "        \r\n",
    "    \r\n"
   ],
   "outputs": [],
   "metadata": {}
  },
  {
   "cell_type": "code",
   "execution_count": null,
   "source": [],
   "outputs": [],
   "metadata": {}
  }
 ]
}